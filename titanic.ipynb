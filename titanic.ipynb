{
 "cells": [
  {
   "cell_type": "code",
   "execution_count": 1,
   "metadata": {},
   "outputs": [],
   "source": [
    "import pandas as pd\n",
    "import numpy as np\n",
    "from matplotlib import pyplot as plt\n",
    "%matplotlib inline\n",
    "import seaborn as sns\n",
    "sns.set_style(\"whitegrid\")\n",
    "import warnings\n",
    "warnings.filterwarnings(\"ignore\")\n",
    "pd.set_option('display.max_columns', None)"
   ]
  },
  {
   "cell_type": "code",
   "execution_count": 2,
   "metadata": {},
   "outputs": [],
   "source": [
    "df = pd.read_csv(\"train.csv\")\n",
    "# df_test = pd.read_csv(\"test.csv\")\n",
    "#drop some columns in both training and testing dataset and call the funciton again\n",
    "df = df.drop(['Cabin','Ticket'], axis = 1)\n",
    "# # df_test = df_test.drop(['Cabin','Ticket'], axis = 1)\n",
    "#replace null values in age with the median values\n",
    "df[\"Age\"].fillna(df[\"Age\"].median(), inplace = True)\n",
    "# # df_test[\"Age\"].fillna(df_test[\"Age\"].median(), inplace = True)\n",
    "df[\"Embarked\"].fillna(\"S\",inplace = True)\n",
    "# # df_test[\"Fare\"].fillna(df_test[\"Fare\"].median(),inplace = True)"
   ]
  },
  {
   "cell_type": "code",
   "execution_count": 3,
   "metadata": {},
   "outputs": [
    {
     "name": "stdout",
     "output_type": "stream",
     "text": [
      "Total no. of people survived :  342\n",
      "Proportion of Females survived out of total survived people:  0.6812865497076024\n",
      "Proportion of Males survived out of total survived people:  0.31871345029239767\n"
     ]
    }
   ],
   "source": [
    "total_survived_females = df[df.Sex == \"female\"]['Survived'].sum()\n",
    "total_survived_males = df[df.Sex == \"male\"][\"Survived\"].sum()\n",
    "print(\"Total no. of people survived : \", total_survived_females + total_survived_males)\n",
    "print(\"Proportion of Females survived out of total survived people: \", (total_survived_females / (total_survived_females + total_survived_males)))\n",
    "print(\"Proportion of Males survived out of total survived people: \", (total_survived_males / (total_survived_females + total_survived_males)))"
   ]
  },
  {
   "cell_type": "code",
   "execution_count": 4,
   "metadata": {},
   "outputs": [],
   "source": [
    "#converting \"Sex\" and \"Embarked\" columns into Numerical values \n",
    "df.Sex[df.Sex == 'male'] = 0\n",
    "df.Sex[df.Sex == 'female'] = 1\n",
    "df['Sex'] = df['Sex'].astype('int64')\n",
    "\n",
    "df.loc[df[\"Embarked\"] == \"S\", \"Embarked\"] = 0\n",
    "df.loc[df[\"Embarked\"] == \"C\", \"Embarked\"] = 1\n",
    "df.loc[df[\"Embarked\"] == \"Q\", \"Embarked\"] = 2\n",
    "df['Embarked'] = df['Embarked'].astype('int64')\n",
    "\n",
    "# df_test.loc[df_test[\"Sex\"] == \"male\", \"Sex\"] = 0\n",
    "# # df_test.loc[df_test[\"Sex\"] == \"female\", \"Sex\"] = 1\n",
    "# # df_test['Sex'] = df_test['Sex'].astype('int64')\n",
    "\n",
    "# # df_test.loc[df_test[\"Embarked\"] == \"S\", \"Embarked\"] = 0\n",
    "# # df_test.loc[df_test[\"Embarked\"] == \"C\", \"Embarked\"] = 1\n",
    "# # df_test.loc[df_test[\"Embarked\"] == \"Q\", \"Embarked\"] = 2\n",
    "# # df_test['Embarked'] = df_test['Embarked'].astype('int64')"
   ]
  },
  {
   "cell_type": "code",
   "execution_count": 5,
   "metadata": {},
   "outputs": [
    {
     "name": "stdout",
     "output_type": "stream",
     "text": [
      "PassengerId    0\n",
      "Survived       0\n",
      "Pclass         0\n",
      "Name           0\n",
      "Sex            0\n",
      "Age            0\n",
      "SibSp          0\n",
      "Parch          0\n",
      "Fare           0\n",
      "Embarked       0\n",
      "FamSize        0\n",
      "IsAlone        0\n",
      "Title          0\n",
      "dtype: int64\n"
     ]
    }
   ],
   "source": [
    "#doing some more feature engineering \n",
    "df[\"FamSize\"] = df[\"SibSp\"] + df[\"Parch\"] + 1\n",
    "# df_test[\"FamSize\"] = df_test[\"SibSp\"] + df_test[\"Parch\"] + 1\n",
    "df[\"IsAlone\"] = df.FamSize.apply(lambda x: 1 if x == 1 else 0)\n",
    "# # df_test[\"IsAlone\"] = df_test.FamSize.apply(lambda x: 1 if x == 1 else 0)\n",
    "#Encoding values of Name , \n",
    "for name in df[\"Name\"]:\n",
    "    df[\"Title\"] = df[\"Name\"].str.extract(\"([A-Za-z]+)\\.\",expand=True)\n",
    "    \n",
    "# for name in df_test[\"Name\"]:\n",
    "    # # df_test[\"Title\"] = df_test[\"Name\"].str.extract(\"([A-Za-z]+)\\.\",expand=True)\n",
    "    \n",
    "title_replacements = {\"Mlle\": \"Other\", \"Major\": \"Other\", \"Col\": \"Other\", \"Sir\": \"Other\", \"Don\": \"Other\", \"Mme\": \"Other\",\n",
    "          \"Jonkheer\": \"Other\", \"Lady\": \"Other\", \"Capt\": \"Other\", \"Countess\": \"Other\", \"Ms\": \"Other\", \"Dona\": \"Other\", \"Rev\": \"Other\", \"Dr\": \"Other\"}\n",
    "\n",
    "df.replace({\"Title\": title_replacements}, inplace=True)\n",
    "# df_test.replace({\"Title\": title_replacements}, inplace=True)\n",
    "\n",
    "df.loc[df[\"Title\"] == \"Miss\", \"Title\"] = 0\n",
    "df.loc[df[\"Title\"] == \"Mr\", \"Title\"] = 1\n",
    "df.loc[df[\"Title\"] == \"Mrs\", \"Title\"] = 2\n",
    "df.loc[df[\"Title\"] == \"Master\", \"Title\"] = 3\n",
    "df.loc[df[\"Title\"] == \"Other\", \"Title\"] = 4\n",
    "df['Title'] = df['Title'].astype('int64')\n",
    "\n",
    "\n",
    "# # df_test.loc[df_test[\"Title\"] == \"Miss\", \"Title\"] = 0\n",
    "# # df_test.loc[df_test[\"Title\"] == \"Mr\", \"Title\"] = 1\n",
    "# # df_test.loc[df_test[\"Title\"] == \"Mrs\", \"Title\"] = 2\n",
    "# # df_test.loc[df_test[\"Title\"] == \"Master\", \"Title\"] = 3\n",
    "# # df_test.loc[df_test[\"Title\"] == \"Other\", \"Title\"] = 4\n",
    "# # df_test['Title'] = df_test['Title'].astype('int64')\n",
    "\n",
    "print(pd.isnull(df).sum())"
   ]
  },
  {
   "cell_type": "code",
   "execution_count": 16,
   "metadata": {},
   "outputs": [
    {
     "data": {
      "text/plain": [
       "1    537\n",
       "0    354\n",
       "Name: IsAlone, dtype: int64"
      ]
     },
     "execution_count": 16,
     "metadata": {},
     "output_type": "execute_result"
    }
   ],
   "source": [
    "df['IsAlone'].value_counts()"
   ]
  },
  {
   "cell_type": "code",
   "execution_count": 6,
   "metadata": {},
   "outputs": [
    {
     "data": {
      "text/html": [
       "<div>\n",
       "<style scoped>\n",
       "    .dataframe tbody tr th:only-of-type {\n",
       "        vertical-align: middle;\n",
       "    }\n",
       "\n",
       "    .dataframe tbody tr th {\n",
       "        vertical-align: top;\n",
       "    }\n",
       "\n",
       "    .dataframe thead th {\n",
       "        text-align: right;\n",
       "    }\n",
       "</style>\n",
       "<table border=\"1\" class=\"dataframe\">\n",
       "  <thead>\n",
       "    <tr style=\"text-align: right;\">\n",
       "      <th></th>\n",
       "      <th>PassengerId</th>\n",
       "      <th>Survived</th>\n",
       "      <th>Pclass</th>\n",
       "      <th>Name</th>\n",
       "      <th>Sex</th>\n",
       "      <th>Age</th>\n",
       "      <th>SibSp</th>\n",
       "      <th>Parch</th>\n",
       "      <th>Fare</th>\n",
       "      <th>Embarked</th>\n",
       "      <th>FamSize</th>\n",
       "      <th>IsAlone</th>\n",
       "      <th>Title</th>\n",
       "    </tr>\n",
       "  </thead>\n",
       "  <tbody>\n",
       "    <tr>\n",
       "      <th>0</th>\n",
       "      <td>1</td>\n",
       "      <td>0</td>\n",
       "      <td>3</td>\n",
       "      <td>Braund, Mr. Owen Harris</td>\n",
       "      <td>0</td>\n",
       "      <td>22.0</td>\n",
       "      <td>1</td>\n",
       "      <td>0</td>\n",
       "      <td>7.2500</td>\n",
       "      <td>0</td>\n",
       "      <td>2</td>\n",
       "      <td>0</td>\n",
       "      <td>1</td>\n",
       "    </tr>\n",
       "    <tr>\n",
       "      <th>1</th>\n",
       "      <td>2</td>\n",
       "      <td>1</td>\n",
       "      <td>1</td>\n",
       "      <td>Cumings, Mrs. John Bradley (Florence Briggs Th...</td>\n",
       "      <td>1</td>\n",
       "      <td>38.0</td>\n",
       "      <td>1</td>\n",
       "      <td>0</td>\n",
       "      <td>71.2833</td>\n",
       "      <td>1</td>\n",
       "      <td>2</td>\n",
       "      <td>0</td>\n",
       "      <td>2</td>\n",
       "    </tr>\n",
       "    <tr>\n",
       "      <th>2</th>\n",
       "      <td>3</td>\n",
       "      <td>1</td>\n",
       "      <td>3</td>\n",
       "      <td>Heikkinen, Miss. Laina</td>\n",
       "      <td>1</td>\n",
       "      <td>26.0</td>\n",
       "      <td>0</td>\n",
       "      <td>0</td>\n",
       "      <td>7.9250</td>\n",
       "      <td>0</td>\n",
       "      <td>1</td>\n",
       "      <td>1</td>\n",
       "      <td>0</td>\n",
       "    </tr>\n",
       "  </tbody>\n",
       "</table>\n",
       "</div>"
      ],
      "text/plain": [
       "   PassengerId  Survived  Pclass  \\\n",
       "0            1         0       3   \n",
       "1            2         1       1   \n",
       "2            3         1       3   \n",
       "\n",
       "                                                Name  Sex   Age  SibSp  Parch  \\\n",
       "0                            Braund, Mr. Owen Harris    0  22.0      1      0   \n",
       "1  Cumings, Mrs. John Bradley (Florence Briggs Th...    1  38.0      1      0   \n",
       "2                             Heikkinen, Miss. Laina    1  26.0      0      0   \n",
       "\n",
       "      Fare  Embarked  FamSize  IsAlone  Title  \n",
       "0   7.2500         0        2        0      1  \n",
       "1  71.2833         1        2        0      2  \n",
       "2   7.9250         0        1        1      0  "
      ]
     },
     "execution_count": 6,
     "metadata": {},
     "output_type": "execute_result"
    }
   ],
   "source": [
    "df.head(3)\n"
   ]
  },
  {
   "cell_type": "code",
   "execution_count": 13,
   "metadata": {},
   "outputs": [
    {
     "data": {
      "text/plain": [
       "dtype('float64')"
      ]
     },
     "execution_count": 13,
     "metadata": {},
     "output_type": "execute_result"
    }
   ],
   "source": [
    "df['Age'].dtype"
   ]
  },
  {
   "cell_type": "code",
   "execution_count": 7,
   "metadata": {},
   "outputs": [],
   "source": [
    "from sklearn.model_selection import train_test_split \n",
    "features = [\"Pclass\", \"Sex\", \"Age\" , \"Fare\", \"Embarked\", \"Title\",\"FamSize\", \"IsAlone\"]\n",
    "x = df[features]\n",
    "y = df['Survived']\n",
    "xtrain, xtest, ytrain, ytest = train_test_split(x, y, test_size = 0.2, random_state=42)"
   ]
  },
  {
   "cell_type": "code",
   "execution_count": 8,
   "metadata": {},
   "outputs": [
    {
     "name": "stdout",
     "output_type": "stream",
     "text": [
      "Accuracy Score:  0.8547486033519553\n"
     ]
    }
   ],
   "source": [
    "from sklearn.metrics import accuracy_score, make_scorer\n",
    "from sklearn.ensemble import RandomForestClassifier\n",
    "# model = LogisticRegression(solver = 'lbfgs', max_iter = 1000)\n",
    "model = RandomForestClassifier()\n",
    "model.fit(xtrain, ytrain)\n",
    "pred_xtest = model.predict(xtest)\n",
    "print(\"Accuracy Score: \",accuracy_score(ytest, pred_xtest))"
   ]
  },
  {
   "cell_type": "markdown",
   "metadata": {},
   "source": [
    "#### Improving RandomForestClassifier Accuracy "
   ]
  },
  {
   "cell_type": "code",
   "execution_count": 10,
   "metadata": {},
   "outputs": [
    {
     "name": "stdout",
     "output_type": "stream",
     "text": [
      "Best parameters for RandomForestClassifier is:\n",
      "RandomForestClassifier(max_depth=10, max_features='log2', min_samples_leaf=10,\n",
      "                       min_samples_split=5, n_estimators=4)\n"
     ]
    }
   ],
   "source": [
    "from sklearn.model_selection import GridSearchCV\n",
    "rfc = RandomForestClassifier()\n",
    "parameters = {\"n_estimators\": [4,8,15], \n",
    "              \"criterion\": [\"gini\", \"entropy\"],\n",
    "              \"max_features\": [\"sqrt\", \"log2\"], \n",
    "              \"max_depth\": [3,10], \n",
    "              \"min_samples_split\": [5, 10],\n",
    "              \"min_samples_leaf\": [5,10]\n",
    "             }\n",
    "\n",
    "grid_cv = GridSearchCV(rfc, parameters, scoring = make_scorer(accuracy_score))\n",
    "grid_cv = grid_cv.fit(xtrain, ytrain)\n",
    "print(\"Best parameters for RandomForestClassifier is:\")\n",
    "print(grid_cv.best_estimator_)"
   ]
  },
  {
   "cell_type": "code",
   "execution_count": 11,
   "metadata": {},
   "outputs": [
    {
     "name": "stdout",
     "output_type": "stream",
     "text": [
      "This is accuracy score of improved rfc:  0.7877094972067039\n"
     ]
    }
   ],
   "source": [
    "rfc = grid_cv.best_estimator_\n",
    "rfc.fit(xtrain, ytrain)\n",
    "good_test_pred = rfc.predict(xtest)\n",
    "print(\"This is accuracy score of improved rfc: \", accuracy_score(ytest, good_test_pred))"
   ]
  },
  {
   "cell_type": "markdown",
   "metadata": {},
   "source": [
    "#### Ignoring improved rfc, using old rfc (coz of better accuracy)"
   ]
  },
  {
   "cell_type": "code",
   "execution_count": 12,
   "metadata": {},
   "outputs": [],
   "source": [
    "import pickle \n",
    "pickle.dump(model,open('model.pkl','wb'))"
   ]
  }
 ],
 "metadata": {
  "kernelspec": {
   "display_name": "colab",
   "language": "python",
   "name": "python3"
  },
  "language_info": {
   "codemirror_mode": {
    "name": "ipython",
    "version": 3
   },
   "file_extension": ".py",
   "mimetype": "text/x-python",
   "name": "python",
   "nbconvert_exporter": "python",
   "pygments_lexer": "ipython3",
   "version": "3.10.12"
  },
  "orig_nbformat": 4
 },
 "nbformat": 4,
 "nbformat_minor": 2
}
